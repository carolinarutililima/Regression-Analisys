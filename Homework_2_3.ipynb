{
  "nbformat": 4,
  "nbformat_minor": 0,
  "metadata": {
    "colab": {
      "name": "Homework_2_3.ipynb",
      "provenance": []
    },
    "kernelspec": {
      "name": "python3",
      "display_name": "Python 3"
    },
    "language_info": {
      "name": "python"
    }
  },
  "cells": [
    {
      "cell_type": "markdown",
      "source": [
        "\n",
        "Simulate a “multiple” regression with two predictors problem by yourself, with sufficient sample size, e.g., 50000 samples.\n",
        "𝑦 = 𝛽0 + 𝛽1𝑥1 + 𝛽2𝑥2 + 𝜖, 𝜖~𝑁(0, 𝜎2).\n",
        "\n",
        "a. (5%) Use the regression package in your preferable environment (R or Python) to analyze the problem\n",
        "and review the results.\n"
      ],
      "metadata": {
        "id": "9t1xPOmuzO8b"
      }
    },
    {
      "cell_type": "code",
      "source": [
        "from google.colab import drive\n",
        "drive.mount('/content/drive')"
      ],
      "metadata": {
        "colab": {
          "base_uri": "https://localhost:8080/"
        },
        "id": "NH1xXaLV8LDq",
        "outputId": "0c48533c-ffe1-4040-8796-dbaec6a286af"
      },
      "execution_count": null,
      "outputs": [
        {
          "output_type": "stream",
          "name": "stdout",
          "text": [
            "Mounted at /content/drive\n"
          ]
        }
      ]
    },
    {
      "cell_type": "code",
      "source": [
        "# Importing Necessary Libraries\n",
        "import numpy as np\n",
        "from numpy import genfromtxt\n",
        "import matplotlib.pyplot as plt\n"
      ],
      "metadata": {
        "id": "N8C1iUx3tmkq"
      },
      "execution_count": null,
      "outputs": []
    },
    {
      "cell_type": "code",
      "source": [
        "%cd /content/drive/MyDrive/Colab Notebooks/homework_2/"
      ],
      "metadata": {
        "colab": {
          "base_uri": "https://localhost:8080/"
        },
        "id": "uLbXL6Cnt9Dh",
        "outputId": "1cdf44a9-5762-4b67-f5b3-a42584fca593"
      },
      "execution_count": null,
      "outputs": [
        {
          "output_type": "stream",
          "name": "stdout",
          "text": [
            "/content/drive/MyDrive/Colab Notebooks/homework_2\n"
          ]
        }
      ]
    },
    {
      "cell_type": "code",
      "source": [
        "# Importing data and separating X & y variables\n",
        "\n",
        "np.random.seed(42)\n",
        "x1 = np.array(sorted(list(range(5))*10000)) + np.random.normal(size=50000, scale=0.5)\n",
        "x2 = np.array(sorted(list(range(5))*10000)) + np.random.normal(size=50000, scale=0.5)\n",
        "\n",
        "y = np.array(sorted(list(range(5))*10000)) + np.random.normal(size=50000, scale=0.25)\n",
        "\n",
        "\n",
        "x1 = np.expand_dims(x1, axis=1)\n",
        "x2 = np.expand_dims(x2, axis=1)\n",
        "X = np.hstack((x1,x2))\n",
        "\n",
        "\n",
        "\n"
      ],
      "metadata": {
        "colab": {
          "base_uri": "https://localhost:8080/"
        },
        "id": "y41qtPpCtpQy",
        "outputId": "03d46ed7-133b-45b8-c6e5-49e044cd7e15"
      },
      "execution_count": null,
      "outputs": [
        {
          "output_type": "stream",
          "name": "stdout",
          "text": [
            "(50000, 1)\n"
          ]
        },
        {
          "output_type": "execute_result",
          "data": {
            "text/plain": [
              "(50000, 2)"
            ]
          },
          "metadata": {},
          "execution_count": 18
        }
      ]
    },
    {
      "cell_type": "code",
      "source": [
        "from sklearn import linear_model  # Importing linear model\n",
        "lm = linear_model.LinearRegression()   # Linear regression\n",
        "lm.fit(X, y)           # Fitting the data"
      ],
      "metadata": {
        "colab": {
          "base_uri": "https://localhost:8080/"
        },
        "id": "JByybSILfvxn",
        "outputId": "747addb8-05ce-458f-e360-2032e2d40cf1"
      },
      "execution_count": null,
      "outputs": [
        {
          "output_type": "execute_result",
          "data": {
            "text/plain": [
              "LinearRegression()"
            ]
          },
          "metadata": {},
          "execution_count": 19
        }
      ]
    },
    {
      "cell_type": "code",
      "source": [
        "# Printing the thetas (intercept and coefs)\n",
        "print(lm.intercept_, lm.coef_)\n",
        "# print(lm.coef_)\n",
        "\n",
        "#Predictions\n",
        "X_predict_1=np.array([[1,1]])\n",
        "X_predict_2=np.array([[2,0]])\n",
        "X_predict_3=np.array([[3,2]])\n",
        "print(\"Prediction for (1,1) = \" + str(lm.predict(X_predict_1)))\n",
        "print(\"Prediction for (2,0) = \" + str(lm.predict(X_predict_2)))\n",
        "print(\"Prediction for (3,2) = \" + str(lm.predict(X_predict_3)))"
      ],
      "metadata": {
        "colab": {
          "base_uri": "https://localhost:8080/"
        },
        "id": "EuJbJIvo8iGX",
        "outputId": "3be3a3a3-42c8-47d9-81f6-bf0b0f20b84b"
      },
      "execution_count": null,
      "outputs": [
        {
          "output_type": "stream",
          "name": "stdout",
          "text": [
            "0.11685584985460573 [0.47126609 0.47052485]\n",
            "Prediction for (1,1) = [1.05864679]\n",
            "Prediction for (2,0) = [1.05938804]\n",
            "Prediction for (3,2) = [2.47170383]\n"
          ]
        }
      ]
    },
    {
      "cell_type": "markdown",
      "source": [
        "b. (15%) From the perspective of “machine learning,” code the gradient descent method to optimize\n",
        "(minimize) the error function and get the coefficients. Do you get the same results as those in (a)? Demonstrate the evolution of the iterative errors and the searching path in the domain of the error function.\n"
      ],
      "metadata": {
        "id": "-7tnYLP66oKV"
      }
    },
    {
      "cell_type": "code",
      "source": [
        "# Multivariate Linear Regression using Gradient Descent\n",
        "def LinReg_with_gradient_descent(X, y, alpha, epoch):\n",
        "  m = X.shape[0]  # number of samples\n",
        "  ones =np.ones((m,1))  \n",
        "  X = np.concatenate((ones, X), axis=1)   # Nuw X with X0's =1\n",
        "  n = X.shape[1]   # \n",
        "  Theta = np.ones(n)    # n= 4  parameter initialization\n",
        "  h = np.dot(X, Theta)   # Compute hypothesis\n",
        "\n",
        "  # Gradient descent algorithm\n",
        "  cost = np.ones(epoch)\n",
        "  for i in range (0, epoch):\n",
        "    Theta[0] = Theta[0] - (alpha / X.shape[0]) * sum(h-y)\n",
        "    for j in range(1, n):\n",
        "      Theta[j]= Theta[j] - (alpha/ X.shape[0]) * sum((h-y) * X[:, j])\n",
        "    h  = np.dot(X, Theta)\n",
        "    cost[i] = 1/(2*m) * sum(np.square(h-y))  # Compute Cost\n",
        "  return cost, Theta\n"
      ],
      "metadata": {
        "id": "er72b2y1Eurq"
      },
      "execution_count": null,
      "outputs": []
    },
    {
      "cell_type": "code",
      "source": [
        "# Calculating theta and cost\n",
        "cost, theta = LinReg_with_gradient_descent(X, y, 0.1, 1000)\n",
        "print(theta)"
      ],
      "metadata": {
        "id": "1UTtbc6vEvVH",
        "colab": {
          "base_uri": "https://localhost:8080/"
        },
        "outputId": "af73ed36-0dcf-4395-a9f7-ad0821393611"
      },
      "execution_count": null,
      "outputs": [
        {
          "output_type": "stream",
          "name": "stdout",
          "text": [
            "[0.11685585 0.47126609 0.47052485]\n"
          ]
        }
      ]
    },
    {
      "cell_type": "code",
      "source": [
        "# Checking out the loss or cost plot\n",
        "plt.plot(cost)\n",
        "plt.xlabel(\"Epoch (number of iteration)\")\n",
        "plt.ylabel( \"Cost or Loss\")\n",
        "plt.show()\n",
        "print(\"Lowest cost =\" + str(np.min(cost)))\n",
        "print(\" Cost after 1000 iterations = \" + str(cost[-1]))"
      ],
      "metadata": {
        "colab": {
          "base_uri": "https://localhost:8080/",
          "height": 314
        },
        "id": "pcR3GrcRmHdo",
        "outputId": "195edba8-9a47-4c48-9b09-0a10b84a6eb0"
      },
      "execution_count": null,
      "outputs": [
        {
          "output_type": "display_data",
          "data": {
            "image/png": "[encoded data removed]",
            "text/plain": [
              "<Figure size 432x288 with 1 Axes>"
            ]
          },
          "metadata": {
            "needs_background": "light"
          }
        },
        {
          "output_type": "stream",
          "name": "stdout",
          "text": [
            "Lowest cost =0.08925560442625179\n",
            " Cost after 2000 iterations = 0.08925560442625435\n"
          ]
        }
      ]
    },
    {
      "cell_type": "code",
      "source": [
        "X_predict_1= np.array([1, 2,0])\n",
        "y_predict_1= np.dot(X_predict_1, theta)\n",
        "print(y_predict_1)"
      ],
      "metadata": {
        "id": "blagsyYQE9oR",
        "colab": {
          "base_uri": "https://localhost:8080/"
        },
        "outputId": "7c61cedc-1b67-40f6-e23e-3de681af78a9"
      },
      "execution_count": null,
      "outputs": [
        {
          "output_type": "stream",
          "name": "stdout",
          "text": [
            "1.059388038483641\n"
          ]
        }
      ]
    },
    {
      "cell_type": "code",
      "source": [
        "#Predictions for the new values using the model\n",
        "X_predict_1=np.array([1,1])\n",
        "X_predict_2=np.array([2,0])\n",
        "X_predict_3=np.array([3,2])\n",
        "\n",
        "#Predictions\n",
        "X_predict_1 = np.concatenate(([1], X_predict_1), axis = 0) # Adding one colum of one in the beggining\n",
        "y_predict_1=np.dot(theta, X_predict_1)\n",
        "print(\"Prediction for (1,1) = \" + str(y_predict_1))\n",
        "\n",
        "X_predict_2 = np.concatenate(([1], X_predict_2), axis = 0) # Adding one colum of one in the beggining\n",
        "y_predict_2=np.dot(theta, X_predict_2)\n",
        "print(\"Prediction for (2,0) = \" + str(y_predict_2))\n",
        "\n",
        "X_predict_3 = np.concatenate(([1], X_predict_3), axis = 0) # Adding one colum of one in the beggining\n",
        "y_predict_3=np.dot(theta, X_predict_3)\n",
        "print(\"Prediction for (3,2) = \" + str(y_predict_3))"
      ],
      "metadata": {
        "colab": {
          "base_uri": "https://localhost:8080/"
        },
        "id": "xvFX0miVnRtP",
        "outputId": "89d2791c-f9e7-4b61-cb68-5a1dbd724adc"
      },
      "execution_count": null,
      "outputs": [
        {
          "output_type": "stream",
          "name": "stdout",
          "text": [
            "Prediction for (1,1) = 1.0586467907857617\n",
            "Prediction for (2,0) = 1.059388038483641\n",
            "Prediction for (3,2) = 2.471703826031426\n"
          ]
        }
      ]
    },
    {
      "cell_type": "code",
      "source": [
        ""
      ],
      "metadata": {
        "id": "qcCd0gUEnZeO"
      },
      "execution_count": null,
      "outputs": []
    }
  ]
}