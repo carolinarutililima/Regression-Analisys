{
  "nbformat": 4,
  "nbformat_minor": 0,
  "metadata": {
    "colab": {
      "name": "Homework_2_1.ipynb",
      "provenance": []
    },
    "kernelspec": {
      "name": "python3",
      "display_name": "Python 3"
    },
    "language_info": {
      "name": "python"
    }
  },
  "cells": [
    {
      "cell_type": "markdown",
      "source": [
        "1. Download the ORL faces dataset. There are 400 faces, of the dimensions 46 × 56, from 40 people.\n",
        "\n",
        "a. (15%) Read the 400 images into one data matrix 400 × 2576. Create an additional label column indicating\n",
        "the physical gender, e.g., {0 = female, 1 = male}.\n"
      ],
      "metadata": {
        "id": "Mp4Op3054sZq"
      }
    },
    {
      "cell_type": "code",
      "source": [
        "from google.colab import drive\n",
        "drive.mount('/content/drive')"
      ],
      "metadata": {
        "id": "zZv1e2TLKPQr",
        "colab": {
          "base_uri": "https://localhost:8080/"
        },
        "outputId": "d984165d-5c4d-491f-f9a0-3b47b2146028"
      },
      "execution_count": null,
      "outputs": [
        {
          "output_type": "stream",
          "name": "stdout",
          "text": [
            "Drive already mounted at /content/drive; to attempt to forcibly remount, call drive.mount(\"/content/drive\", force_remount=True).\n"
          ]
        }
      ]
    },
    {
      "cell_type": "code",
      "source": [
        "import cv2\n",
        "import os\n",
        "import numpy as np\n",
        "import matplotlib.pyplot as plt\n",
        "from sklearn.model_selection import train_test_split\n",
        "from sklearn.metrics import accuracy_score"
      ],
      "metadata": {
        "id": "bVYUzHCa68gJ"
      },
      "execution_count": null,
      "outputs": []
    },
    {
      "cell_type": "code",
      "source": [
        "import numpy\n",
        "\n",
        "# 1 - 0, 2 - 1, 3 - 1, 4 - 1, 5 - 1, 6 - 1, 7 - 1, 8 - 0, 9 - 1, 10 - 0, 11 - 1, 12 - 0, 13 - 1, 14 - 1, 15 - 1\n",
        "# 16 - 1, 17 - 1, 18 - 1, 19 - 1, 20 - 1, 21 - 1, 22 - 1, 23 - 1, 24 - 1, 25 - 1, 26 - 1, 27 - 1, 28 - 1, 29 - 1, 30 - 1\n",
        "# 31 - 1, 32 - 0, 33 - 1, 34 - 1, 35 - 1, 36 - 1, 37 - 1, 38 - 1, 39 - 1, 40 - 1  \n",
        "gender = [0, 1, 1, 1, 1, 1, 1, 0, 1, 0,1, 0, 1,1,1,1,1,1,1,1,1,1,1,1,1,1,1,1,1,1,1,0,1,1,1,1,1,1,1,1]\n",
        "len(gender)\n",
        "\n",
        "final = []\n",
        "for i in gender:\n",
        "  if i == 0:\n",
        "    for j in range(0,10):\n",
        "      final.append(0)\n",
        "    #new_list = [0,0,0,0,0,0,0,0,0,0]\n",
        "  else:\n",
        "    for j in range(0,10):\n",
        "      final.append(1)\n",
        "\n",
        "\n",
        " \n",
        "gender = np.asarray(final)\n",
        "gender = np.expand_dims(gender, axis=1)\n",
        "gender.shape\n",
        "\n",
        "\n"
      ],
      "metadata": {
        "id": "zHnCuQps7QWE",
        "colab": {
          "base_uri": "https://localhost:8080/"
        },
        "outputId": "9b49cbb6-51a0-4413-98ce-3b680683886e"
      },
      "execution_count": null,
      "outputs": [
        {
          "output_type": "execute_result",
          "data": {
            "text/plain": [
              "(400, 1)"
            ]
          },
          "metadata": {},
          "execution_count": 118
        }
      ]
    },
    {
      "cell_type": "code",
      "source": [
        "from PIL import Image\n",
        "\n",
        "\n",
        "def load_images_from_folder(folder):\n",
        "  i = 1\n",
        "  for filename in os.listdir(folder):\n",
        "    im = Image.open(os.path.join(folder,filename))\n",
        "    data = np.array(im)\n",
        "    flattened = data.flatten()\n",
        "    reshape_fla = np.expand_dims(flattened, axis=0)\n",
        "    if i == 1:\n",
        "      final = reshape_fla\n",
        "      i = 2\n",
        "    else:\n",
        "      final = np.vstack((final,reshape_fla))\n",
        "\n",
        "  return final\n",
        "\n",
        "\n",
        "pixels = load_images_from_folder('/content/drive/MyDrive/photos_ORL_dataset/')\n",
        "\n",
        "pixels.shape"
      ],
      "metadata": {
        "colab": {
          "base_uri": "https://localhost:8080/"
        },
        "id": "mfQFRHIOlq36",
        "outputId": "a384827d-810b-4b7e-a522-c50afbfa906c"
      },
      "execution_count": null,
      "outputs": [
        {
          "output_type": "execute_result",
          "data": {
            "text/plain": [
              "(400, 2576)"
            ]
          },
          "metadata": {},
          "execution_count": 136
        }
      ]
    },
    {
      "cell_type": "markdown",
      "source": [
        "b. (10%) Regress the gender label on all the 2576 pixels? What do you observe?\n"
      ],
      "metadata": {
        "id": "i58DdNeR40a5"
      }
    },
    {
      "cell_type": "code",
      "source": [
        "Y = gender\n",
        "X = pixels"
      ],
      "metadata": {
        "id": "wOsmg4bjTa0r"
      },
      "execution_count": null,
      "outputs": []
    },
    {
      "cell_type": "code",
      "source": [
        "import statsmodels.api as sm\n",
        "import numpy as np\n",
        "\n",
        "X_reg = sm.add_constant(X)\n",
        "model = sm.OLS(Y,X_reg)\n",
        "results = model.fit()"
      ],
      "metadata": {
        "id": "38rP1hiPcDxq"
      },
      "execution_count": null,
      "outputs": []
    },
    {
      "cell_type": "code",
      "source": [
        "results.params"
      ],
      "metadata": {
        "colab": {
          "base_uri": "https://localhost:8080/"
        },
        "id": "xP_2aglucW4f",
        "outputId": "1e41e322-65aa-4e16-c7b2-724777519486"
      },
      "execution_count": null,
      "outputs": [
        {
          "output_type": "execute_result",
          "data": {
            "text/plain": [
              "array([ 3.71124339e-07, -1.89826387e-04, -1.30764085e-04, ...,\n",
              "        1.45625263e-04,  4.42081375e-04,  4.75438324e-04])"
            ]
          },
          "metadata": {},
          "execution_count": 139
        }
      ]
    },
    {
      "cell_type": "markdown",
      "source": [
        "(15%) Perform the stepwise regression from a null model to find the important pixels. Plot the chosen\n",
        "pixels on a 46 × 56 canvas."
      ],
      "metadata": {
        "id": "vxv22q22dMUU"
      }
    },
    {
      "cell_type": "code",
      "source": [
        "Y.shape\n",
        "X.shape"
      ],
      "metadata": {
        "colab": {
          "base_uri": "https://localhost:8080/"
        },
        "id": "7TSZ5LVAU2yh",
        "outputId": "f277bd2e-02b2-4265-99af-924ddf193860"
      },
      "execution_count": null,
      "outputs": [
        {
          "output_type": "execute_result",
          "data": {
            "text/plain": [
              "(400, 2576)"
            ]
          },
          "metadata": {},
          "execution_count": 140
        }
      ]
    },
    {
      "cell_type": "code",
      "source": [
        "#first pixel\n",
        "\n",
        "import statsmodels.api as sm\n",
        "import numpy as np\n",
        "\n",
        "Xs= []\n",
        "for j in range(0,len(X)):\n",
        "  for i in range(0,len(Y)):\n",
        "    Xs.append(X[i][j]) \n",
        "  Xs = sm.add_constant(Xs)\n",
        "  model_2 = sm.OLS(Y,Xs)\n",
        "  results_each = model_2.fit()\n",
        "  p_values = results_each.pvalues\n",
        "  if p_values[1] < best_p:\n",
        "    best_pixel = j\n",
        "    best_p = p_values[1]\n",
        "  Xs = []\n",
        "\n",
        "    \n",
        "\n"
      ],
      "metadata": {
        "colab": {
          "base_uri": "https://localhost:8080/"
        },
        "id": "54aOxcYUeqMv",
        "outputId": "1bc5ea6b-c8be-40b3-825a-aae61a7bbfde"
      },
      "execution_count": null,
      "outputs": [
        {
          "output_type": "stream",
          "name": "stdout",
          "text": [
            "[4.76664625e-59 3.08533303e-01]\n",
            "[1.94432284e-58 2.81557522e-01]\n",
            "[1.60557122e-58 2.95882274e-01]\n",
            "[2.12683828e-58 2.64611137e-01]\n",
            "[1.00699209e-57 2.98684817e-01]\n",
            "[1.06929802e-56 2.48664789e-01]\n",
            "[1.82361762e-55 9.90403095e-02]\n",
            "[3.73099679e-54 5.50329051e-02]\n",
            "[9.77999407e-55 5.82364074e-02]\n",
            "[1.27321978e-57 1.29219878e-01]\n",
            "[6.61254831e-60 2.02202420e-01]\n",
            "[5.32019959e-60 1.05210443e-01]\n",
            "[2.09203023e-63 1.68902598e-01]\n",
            "[4.05608435e-67 2.50139384e-01]\n",
            "[1.04979228e-68 3.63765996e-01]\n",
            "[9.85838503e-68 3.54069361e-01]\n",
            "[2.36920166e-67 3.09520835e-01]\n",
            "[2.44235017e-68 3.82362132e-01]\n",
            "[1.00628534e-69 4.42066574e-01]\n",
            "[7.06971902e-71 5.20548396e-01]\n",
            "[1.42679302e-70 4.40418905e-01]\n",
            "[1.07094572e-71 5.20690983e-01]\n",
            "[2.18193833e-71 4.13205211e-01]\n",
            "[1.56665424e-71 4.22717255e-01]\n",
            "[1.63404822e-72 4.03452749e-01]\n",
            "[2.01822735e-71 2.36539101e-01]\n",
            "[3.15462908e-70 1.04470681e-01]\n",
            "[1.13865540e-70 1.57283179e-01]\n",
            "[1.08121754e-69 9.17655104e-02]\n",
            "[1.57096597e-69 8.69433941e-02]\n",
            "[8.91534576e-69 6.92263220e-02]\n",
            "[1.73688507e-66 5.88423651e-02]\n",
            "[6.69338561e-65 7.37682393e-02]\n",
            "[2.47263124e-64 1.09591901e-01]\n",
            "[2.63370431e-62 1.07299057e-01]\n",
            "[2.34741193e-63 1.75700852e-01]\n",
            "[2.92046073e-63 2.62049531e-01]\n",
            "[1.43092392e-62 2.52607408e-01]\n",
            "[7.26836242e-62 2.95851230e-01]\n",
            "[2.64652653e-60 2.61128840e-01]\n",
            "[7.05900935e-60 2.94383403e-01]\n",
            "[4.07925334e-60 3.38019006e-01]\n",
            "[1.61510439e-59 3.07313205e-01]\n",
            "[8.08021552e-60 3.33976184e-01]\n",
            "[1.6062178e-60 3.1802079e-01]\n",
            "[2.18001278e-61 3.79499929e-01]\n",
            "[7.56962816e-58 2.74065960e-01]\n",
            "[1.14327218e-57 2.55886281e-01]\n",
            "[2.40555247e-58 3.07487378e-01]\n",
            "[1.37208457e-57 2.99039538e-01]\n",
            "[5.01854971e-56 1.71439492e-01]\n",
            "[1.37112379e-55 1.06439677e-01]\n",
            "[2.96336096e-55 8.34291759e-02]\n",
            "[3.42646406e-56 1.34854047e-01]\n",
            "[1.76119815e-57 9.67178147e-02]\n",
            "[1.71693357e-59 1.58893256e-01]\n",
            "[2.43271637e-64 3.07083992e-01]\n",
            "[4.72955593e-64 1.41532198e-01]\n",
            "[9.31919860e-66 1.76741401e-01]\n",
            "[2.44649657e-69 3.51052391e-01]\n",
            "[1.09955167e-69 3.56821139e-01]\n",
            "[3.90321462e-70 5.20058813e-01]\n",
            "[2.87813416e-71 7.62869789e-01]\n",
            "[3.61678259e-73 8.66941526e-01]\n",
            "[6.85577839e-74 7.74467823e-01]\n",
            "[1.87317099e-74 7.36167446e-01]\n",
            "[1.18275475e-75 7.94025314e-01]\n",
            "[1.32052236e-76 9.40136904e-01]\n",
            "[1.02172195e-76 9.60917028e-01]\n",
            "[3.11604437e-76 9.02691234e-01]\n",
            "[1.80374871e-78 8.74242087e-01]\n",
            "[7.73626802e-77 9.31949704e-01]\n",
            "[1.03434851e-75 7.08392393e-01]\n",
            "[2.08941918e-73 4.89035346e-01]\n",
            "[5.3653132e-72 3.1991542e-01]\n",
            "[2.86913011e-71 1.13286044e-01]\n",
            "[1.46968333e-70 8.41323046e-02]\n",
            "[3.49025385e-68 5.24901786e-02]\n",
            "[1.45930020e-66 6.04923449e-02]\n",
            "[2.81262872e-65 6.95105634e-02]\n",
            "[3.60274276e-64 1.03059504e-01]\n",
            "[4.91702196e-63 1.19302721e-01]\n",
            "[5.00871976e-63 1.51092225e-01]\n",
            "[6.82301126e-63 2.52025504e-01]\n",
            "[8.96495808e-62 2.82381663e-01]\n",
            "[1.41185592e-60 2.59982139e-01]\n",
            "[1.14234211e-59 2.70599809e-01]\n",
            "[1.01464709e-59 3.13132673e-01]\n",
            "[4.22062793e-59 3.24576495e-01]\n",
            "[8.28365618e-59 3.28499195e-01]\n",
            "[2.71516567e-59 3.23161304e-01]\n",
            "[3.46233960e-60 3.83468864e-01]\n",
            "[4.33500424e-57 2.44850553e-01]\n",
            "[2.04544467e-57 2.46338467e-01]\n",
            "[2.22424275e-57 2.30112775e-01]\n",
            "[1.77184499e-56 1.57519536e-01]\n",
            "[3.84554481e-56 8.18271090e-02]\n",
            "[3.52616988e-55 6.30577414e-02]\n",
            "[1.19214157e-56 6.45215880e-02]\n",
            "[2.88413933e-60 1.40034070e-01]\n",
            "[1.29062223e-62 1.17742876e-01]\n",
            "[6.70544942e-65 2.16777210e-01]\n",
            "[2.78624974e-67 3.71598168e-01]\n",
            "[6.34088150e-67 3.76825576e-01]\n",
            "[1.96669690e-68 3.27308756e-01]\n",
            "[1.81029684e-70 4.63881150e-01]\n",
            "[5.33578234e-72 6.73228178e-01]\n",
            "[3.31500559e-74 8.07289394e-01]\n",
            "[3.79328472e-76 9.51260885e-01]\n",
            "[2.32237133e-77 9.77500168e-01]\n",
            "[3.87534337e-78 9.91149462e-01]\n",
            "[2.14149948e-78 9.83314499e-01]\n",
            "[1.01863722e-80 8.21472539e-01]\n",
            "[1.64345577e-79 9.63303884e-01]\n",
            "[1.08599232e-79 9.66846748e-01]\n",
            "[1.16761803e-77 8.59924744e-01]\n",
            "[2.06421479e-77 9.60028012e-01]\n",
            "[2.01560017e-79 9.65563781e-01]\n",
            "[6.89439435e-79 9.65898602e-01]\n",
            "[8.21255188e-78 9.42897761e-01]\n",
            "[1.35621804e-76 8.79338735e-01]\n",
            "[1.91850480e-75 5.00632223e-01]\n",
            "[4.87438548e-73 2.14299145e-01]\n",
            "[1.34549458e-70 1.26539971e-01]\n",
            "[7.37639308e-68 9.24534952e-02]\n",
            "[1.23557540e-67 6.13567205e-02]\n",
            "[9.39448687e-65 4.75312661e-02]\n",
            "[1.87161572e-63 4.27601509e-02]\n",
            "[2.23102625e-63 1.04908740e-01]\n",
            "[1.13852245e-63 2.18273560e-01]\n",
            "[8.87485267e-64 2.99402262e-01]\n",
            "[9.68870337e-62 2.54366758e-01]\n",
            "[1.04823748e-59 2.35502236e-01]\n",
            "[2.34425767e-59 2.24907463e-01]\n",
            "[8.57774510e-59 2.60619687e-01]\n",
            "[1.64939215e-58 2.70119588e-01]\n",
            "[3.69490658e-58 2.96434682e-01]\n",
            "[8.52837574e-59 3.53598122e-01]\n",
            "[2.57217840e-56 2.24595649e-01]\n",
            "[4.72251463e-57 2.74299244e-01]\n",
            "[2.81371553e-56 1.21983297e-01]\n",
            "[1.96294974e-56 5.22173224e-02]\n",
            "[3.13759567e-59 8.89589827e-02]\n",
            "[1.35553578e-59 7.99461942e-02]\n",
            "[9.66110120e-62 9.38010393e-02]\n",
            "[8.01929656e-66 2.50651710e-01]\n",
            "[4.17060883e-66 2.71629637e-01]\n",
            "[3.95757399e-68 3.90766206e-01]\n",
            "[1.24877789e-69 4.20781842e-01]\n",
            "[8.19834427e-71 5.68030991e-01]\n",
            "[7.69898845e-73 7.80375856e-01]\n",
            "[1.41004228e-72 8.78761802e-01]\n",
            "[1.40032776e-74 9.58377513e-01]\n",
            "[7.82161357e-76 9.58844755e-01]\n",
            "[1.01086535e-76 9.09307221e-01]\n",
            "[2.0152053e-76 9.6564816e-01]\n",
            "[1.87655988e-77 9.58514085e-01]\n",
            "[1.48497608e-77 9.90082988e-01]\n",
            "[1.43916515e-79 9.87672056e-01]\n",
            "[1.50630441e-78 7.96425799e-01]\n",
            "[4.48055266e-79 7.76819331e-01]\n",
            "[1.81245204e-77 7.40888075e-01]\n",
            "[3.70943135e-76 6.82011504e-01]\n",
            "[1.15053219e-77 8.13167959e-01]\n",
            "[3.60831604e-79 9.54733854e-01]\n",
            "[6.34951038e-79 7.93297870e-01]\n",
            "[9.87162277e-77 7.13288275e-01]\n",
            "[4.76859223e-76 6.92894624e-01]\n",
            "[4.00499766e-74 5.62588318e-01]\n",
            "[3.23715313e-73 5.45576725e-01]\n",
            "[2.70023461e-71 4.15475337e-01]\n",
            "[3.91917627e-67 9.16393331e-02]\n",
            "[1.89023505e-64 3.92635341e-02]\n",
            "[2.67051706e-64 2.00605062e-02]\n",
            "[1.79740373e-64 5.54927845e-02]\n",
            "[3.42529346e-65 1.90431929e-01]\n",
            "[2.06973237e-66 4.42017072e-01]\n",
            "[9.11014384e-65 3.34922655e-01]\n",
            "[5.38704938e-60 1.84128783e-01]\n",
            "[2.91135773e-58 1.41750149e-01]\n",
            "[9.40701049e-58 1.34931317e-01]\n",
            "[4.60354289e-58 1.72113787e-01]\n",
            "[3.13014361e-57 2.05935346e-01]\n",
            "[1.68438284e-57 2.97450981e-01]\n",
            "[8.10542532e-56 2.53174849e-01]\n",
            "[5.14942789e-55 1.43338600e-01]\n",
            "[6.55403742e-56 6.24577430e-02]\n",
            "[1.70445686e-58 5.54762374e-02]\n",
            "[1.41694720e-59 6.64138558e-02]\n",
            "[6.99996764e-63 1.58470315e-01]\n",
            "[6.43523729e-66 2.94990417e-01]\n",
            "[1.73499171e-69 6.28726648e-01]\n",
            "[4.10374211e-70 6.20919612e-01]\n",
            "[2.04012218e-71 5.95098668e-01]\n",
            "[2.05950624e-72 6.87059516e-01]\n",
            "[2.03289269e-72 7.69815832e-01]\n",
            "[2.56315641e-74 8.85105329e-01]\n",
            "[9.75935439e-76 7.42648721e-01]\n",
            "[4.06430016e-75 8.36441815e-01]\n",
            "[1.82609265e-73 9.93853624e-01]\n",
            "[5.52540520e-75 9.85614933e-01]\n",
            "[1.20709140e-76 9.91761451e-01]\n",
            "[2.02228438e-78 9.25558279e-01]\n",
            "[2.51237505e-78 9.66040485e-01]\n",
            "[1.48618671e-78 9.87585726e-01]\n",
            "[6.72097830e-79 9.89466306e-01]\n",
            "[9.32510608e-79 9.87825303e-01]\n",
            "[2.24510408e-77 9.48606585e-01]\n",
            "[5.16541842e-76 8.08004990e-01]\n",
            "[3.11291148e-76 7.46184043e-01]\n",
            "[4.49846970e-76 5.70407753e-01]\n",
            "[2.11431762e-76 6.19579725e-01]\n",
            "[6.91720779e-77 6.73334616e-01]\n",
            "[1.82165769e-75 7.95722398e-01]\n",
            "[1.95933598e-75 7.68919151e-01]\n",
            "[2.65094925e-73 6.53808882e-01]\n",
            "[2.46106503e-72 6.59971257e-01]\n",
            "[2.64002239e-71 4.52415470e-01]\n",
            "[2.73304889e-65 1.17750416e-01]\n",
            "[4.91860838e-65 7.31747027e-02]\n",
            "[4.78909454e-67 7.10239490e-02]\n",
            "[2.75621332e-64 8.00104769e-02]\n",
            "[4.76297876e-67 3.68446317e-01]\n",
            "[5.52809855e-67 4.36872284e-01]\n",
            "[8.99225698e-63 2.25427319e-01]\n",
            "[3.05880653e-58 1.14929315e-01]\n",
            "[5.30406205e-58 1.38393336e-01]\n",
            "[2.00237118e-58 1.83492072e-01]\n",
            "[5.10613423e-57 1.85551245e-01]\n",
            "[1.01686281e-56 2.27493537e-01]\n",
            "[8.28710547e-54 1.47364115e-01]\n",
            "[1.34057344e-53 2.88166650e-02]\n",
            "[3.94216731e-56 4.13073778e-02]\n",
            "[1.62607405e-56 3.36419597e-02]\n",
            "[1.95457642e-59 1.10162880e-01]\n",
            "[7.99828672e-64 3.04768684e-01]\n",
            "[1.14503456e-68 6.48139518e-01]\n",
            "[2.17675512e-72 9.62557079e-01]\n",
            "[6.70512964e-74 8.33444033e-01]\n",
            "[1.91193670e-74 7.88328333e-01]\n",
            "[9.25033533e-75 9.27665840e-01]\n",
            "[4.32061172e-75 8.50815453e-01]\n",
            "[4.27214652e-75 6.85977088e-01]\n",
            "[2.58738693e-76 5.43754161e-01]\n",
            "[7.40246274e-75 7.76072674e-01]\n",
            "[2.80707582e-73 9.38590529e-01]\n",
            "[8.29770292e-74 9.05239840e-01]\n",
            "[1.21959432e-75 9.18797067e-01]\n",
            "[1.65766480e-76 9.63253017e-01]\n",
            "[2.56049992e-77 9.57833491e-01]\n",
            "[4.04597383e-76 8.85426249e-01]\n",
            "[7.34206739e-77 9.34368268e-01]\n",
            "[1.47487160e-76 9.86391954e-01]\n",
            "[4.62116256e-75 9.57853454e-01]\n",
            "[4.16721854e-74 9.99679721e-01]\n",
            "[1.6604295e-73 7.9166015e-01]\n",
            "[3.2030225e-73 6.6218799e-01]\n",
            "[9.85748885e-75 8.61265083e-01]\n",
            "[7.56894532e-76 9.33850649e-01]\n",
            "[3.78901240e-76 9.88290874e-01]\n",
            "[1.79083786e-75 9.18318462e-01]\n",
            "[3.68099676e-74 8.79678984e-01]\n",
            "[2.03560458e-74 9.17599119e-01]\n",
            "[1.64195368e-74 7.85522315e-01]\n",
            "[2.61712894e-72 4.98795190e-01]\n",
            "[1.71583281e-68 2.39757887e-01]\n",
            "[5.22649838e-67 1.60690429e-01]\n",
            "[1.62596408e-68 1.10444697e-01]\n",
            "[3.32882627e-65 1.16155421e-01]\n",
            "[3.10827993e-68 4.74215166e-01]\n",
            "[5.27030892e-67 5.08229906e-01]\n",
            "[2.28523638e-61 1.83669297e-01]\n",
            "[1.92160691e-58 1.12082644e-01]\n",
            "[1.80031478e-58 1.89950145e-01]\n",
            "[6.66210426e-57 1.84595943e-01]\n",
            "[1.01415833e-55 1.32374887e-01]\n",
            "[1.34849479e-52 5.50374395e-02]\n",
            "[1.11358836e-53 2.46526200e-02]\n",
            "[1.19700821e-55 4.33722516e-02]\n",
            "[3.13580632e-59 1.63159732e-01]\n",
            "[5.41831126e-65 5.55415624e-01]\n",
            "[4.00526984e-68 8.15997705e-01]\n",
            "[2.91378641e-73 8.49161542e-01]\n",
            "[1.00390492e-72 8.17945308e-01]\n",
            "[3.86043298e-74 7.14931140e-01]\n",
            "[3.70507748e-76 7.51058492e-01]\n",
            "[3.15400841e-76 9.73173727e-01]\n",
            "[8.75705056e-76 6.36025442e-01]\n",
            "[6.91831809e-76 3.83161975e-01]\n",
            "[3.39177728e-76 3.92664954e-01]\n",
            "[6.93032306e-75 6.81343612e-01]\n",
            "[5.10377750e-74 8.58846024e-01]\n",
            "[1.10977852e-73 9.53257133e-01]\n",
            "[1.91171135e-74 8.94514291e-01]\n",
            "[1.28726928e-74 8.62792291e-01]\n",
            "[1.90418778e-76 7.56112234e-01]\n",
            "[4.64059068e-75 8.09679333e-01]\n",
            "[1.36271128e-74 7.36800244e-01]\n",
            "[1.73764392e-74 7.24831100e-01]\n",
            "[3.57003644e-73 7.19486587e-01]\n",
            "[2.36711087e-71 8.11123673e-01]\n",
            "[3.30634360e-71 7.99117286e-01]\n",
            "[7.55205602e-72 7.87784418e-01]\n",
            "[3.02719065e-72 9.31995082e-01]\n",
            "[2.46036734e-73 8.69308258e-01]\n",
            "[1.22231489e-73 8.81875985e-01]\n",
            "[5.72273689e-74 9.51121428e-01]\n",
            "[1.98860399e-74 9.20184203e-01]\n",
            "[2.14975281e-75 8.06308322e-01]\n",
            "[6.97129893e-76 8.89894047e-01]\n",
            "[4.60827670e-74 7.04105999e-01]\n",
            "[2.29825490e-72 4.42804956e-01]\n",
            "[5.65981259e-70 3.24069835e-01]\n",
            "[2.11620289e-69 2.57826496e-01]\n",
            "[1.11573684e-67 1.21087070e-01]\n",
            "[1.62889803e-65 1.67278479e-01]\n",
            "[8.59045163e-69 5.15000061e-01]\n",
            "[5.41464679e-66 4.16493808e-01]\n",
            "[8.66558473e-60 1.20805805e-01]\n",
            "[1.97455675e-57 1.22390185e-01]\n",
            "[4.93253889e-56 1.22882359e-01]\n",
            "[8.02518472e-54 8.18389669e-02]\n",
            "[4.58526289e-52 3.27420646e-02]\n",
            "[4.44518440e-55 6.45749422e-02]\n",
            "[4.14734329e-58 1.77296221e-01]\n",
            "[2.37545411e-65 6.50997919e-01]\n",
            "[3.97032227e-67 6.74782623e-01]\n",
            "[1.49808179e-70 8.81534145e-01]\n",
            "[6.79699171e-72 8.76682708e-01]\n",
            "[2.33450551e-71 6.52614737e-01]\n",
            "[5.03946074e-76 7.96859207e-01]\n",
            "[5.36591628e-77 8.81763658e-01]\n",
            "[2.65994696e-76 5.14202409e-01]\n",
            "[1.83584830e-75 3.76828095e-01]\n",
            "[9.70324289e-75 3.30166635e-01]\n",
            "[4.26314193e-75 2.87673417e-01]\n",
            "[2.36029569e-75 3.10749155e-01]\n",
            "[5.47036659e-75 3.73218517e-01]\n",
            "[7.24727400e-74 4.50743754e-01]\n",
            "[1.66941554e-73 4.29235684e-01]\n",
            "[1.43756623e-72 5.33378222e-01]\n",
            "[4.73407319e-72 6.28594027e-01]\n",
            "[7.31407149e-74 4.27657434e-01]\n",
            "[7.03503772e-73 5.04034183e-01]\n",
            "[2.61022077e-72 4.24591772e-01]\n",
            "[3.94452923e-73 3.25336839e-01]\n",
            "[7.01006567e-72 3.27466271e-01]\n",
            "[4.17871067e-71 3.70320713e-01]\n",
            "[1.75141789e-70 5.09413521e-01]\n",
            "[3.55308813e-71 5.63586639e-01]\n",
            "[2.36175436e-72 5.53723467e-01]\n",
            "[7.07667026e-72 6.16273144e-01]\n",
            "[1.21806640e-70 8.37269833e-01]\n",
            "[7.49578736e-72 8.87193894e-01]\n",
            "[8.74644002e-74 9.17452598e-01]\n",
            "[1.09349523e-74 8.26603975e-01]\n",
            "[1.04458563e-73 9.95707935e-01]\n",
            "[5.25211254e-73 6.68980085e-01]\n",
            "[1.11665279e-72 4.35754719e-01]\n",
            "[1.08350171e-70 3.30399193e-01]\n",
            "[2.85928635e-70 2.23853431e-01]\n",
            "[3.39268099e-68 1.55805967e-01]\n",
            "[3.75682223e-67 6.21545151e-01]\n",
            "[3.12886361e-68 6.93879517e-01]\n",
            "[2.26392368e-64 3.69992762e-01]\n",
            "[1.82843777e-58 1.53952617e-01]\n",
            "[2.05752054e-56 1.53671200e-01]\n",
            "[9.27557225e-55 1.34357558e-01]\n",
            "[1.30022524e-53 7.53614095e-02]\n",
            "[1.19801575e-58 1.81681463e-01]\n",
            "[3.37941737e-63 6.05137006e-01]\n",
            "[1.78230387e-68 8.98567969e-01]\n",
            "[5.39879082e-67 9.22749440e-01]\n",
            "[5.18105015e-73 6.57678499e-01]\n",
            "[1.37575651e-71 8.95573547e-01]\n",
            "[7.19882279e-73 9.54354448e-01]\n",
            "[1.36089737e-76 6.17162907e-01]\n",
            "[1.18794736e-76 4.02743948e-01]\n",
            "[4.04651431e-75 2.88478213e-01]\n",
            "[9.21407224e-74 2.55276605e-01]\n",
            "[2.80826843e-73 1.84742476e-01]\n",
            "[1.77048931e-73 1.43487958e-01]\n",
            "[1.53073603e-73 1.34467603e-01]\n",
            "[2.95924700e-72 1.81820932e-01]\n",
            "[1.65204034e-71 2.22485776e-01]\n",
            "[9.72219340e-71 2.64028727e-01]\n",
            "[2.50865504e-69 3.38471912e-01]\n",
            "[1.13635572e-69 3.63564573e-01]\n",
            "[7.54607096e-71 3.84167959e-01]\n",
            "[2.1886976e-72 2.8960200e-01]\n",
            "[1.69106564e-72 2.11219707e-01]\n",
            "[2.67455240e-71 2.84027133e-01]\n",
            "[6.04050294e-70 2.59831325e-01]\n",
            "[9.95506318e-69 2.96651177e-01]\n",
            "[1.88495525e-67 4.38346098e-01]\n",
            "[5.05389909e-68 3.67303225e-01]\n",
            "[6.30344855e-69 4.08953820e-01]\n",
            "[1.52974194e-68 5.85193695e-01]\n",
            "[3.23393368e-67 8.81289081e-01]\n",
            "[1.20708795e-66 8.82009785e-01]\n"
          ]
        }
      ]
    },
    {
      "cell_type": "code",
      "source": [
        "#first pixel\n",
        "\n",
        "import statsmodels.api as sm\n",
        "import numpy as np\n",
        "\n",
        "Xs= []\n",
        "pvalues = []\n",
        "\n",
        "for j in range(0,len(X)):\n",
        "  for i in range(0,len(Y)):\n",
        "    Xs.append(X[i][j]) \n",
        "  Xs = sm.add_constant(Xs)\n",
        "  model_2 = sm.OLS(Y,Xs)\n",
        "  results_each = model_2.fit()\n",
        "  p_values = results_each.pvalues\n",
        "  pvalues.append(p_values[1])\n",
        "\n",
        "  Xs = []\n",
        "\n",
        "    \n",
        "\n"
      ],
      "metadata": {
        "id": "pwP-v3cHa4Og"
      },
      "execution_count": null,
      "outputs": []
    },
    {
      "cell_type": "code",
      "source": [
        "# A Python program to find the first,\n",
        "# second and third minimum element\n",
        "# in an array\n",
        " \n",
        "MAX = 100000\n",
        " \n",
        "def Print3Smallest(arr, n):\n",
        "    firstmin = MAX\n",
        "    secmin = MAX\n",
        "    thirdmin = MAX\n",
        " \n",
        "    for i in range(0, n):\n",
        "         \n",
        "        # Check if current element\n",
        "        # is less than firstmin,\n",
        "        # then update first,second\n",
        "        # and third\n",
        " \n",
        "        if arr[i] < firstmin:\n",
        "            thirdmin = secmin\n",
        "            secmin = firstmin\n",
        "            firstmin = arr[i]\n",
        "            first = i\n",
        " \n",
        "        # Check if current element is\n",
        "        # less than secmin then update\n",
        "        # second and third\n",
        "        elif arr[i] < secmin:\n",
        "            thirdmin = secmin\n",
        "            secmin = arr[i]\n",
        "            second = i\n",
        " \n",
        "        # Check if current element is\n",
        "        # less than,then update third\n",
        "        elif arr[i] < thirdmin:\n",
        "            thirdmin = arr[i]\n",
        "            third = i\n",
        " \n",
        "    print(\"First pixel = \", firstmin, \"position = \", first)\n",
        "    print(\"Second pixel = \", secmin, \"position = \", second)\n",
        "    print(\"Third pixel = \", thirdmin, \"position = \", third)\n",
        "\n",
        "    return first, second, third\n",
        " \n",
        " \n",
        "\n",
        "n = len(pvalues)\n",
        "first, second, third = Print3Smallest(pvalues, n)\n",
        "\n",
        "pixels =  [first, second, third]\n"
      ],
      "metadata": {
        "colab": {
          "base_uri": "https://localhost:8080/"
        },
        "id": "H8KvZpOabeV8",
        "outputId": "58fa5c7a-e9c4-4dd6-aa16-0367cbcbadce"
      },
      "execution_count": null,
      "outputs": [
        {
          "output_type": "stream",
          "name": "stdout",
          "text": [
            "First pixel =  0.020060506157918396 position =  173\n",
            "Second pixel =  0.024652619985010837 position =  277\n",
            "Third pixel =  0.0288166650020915 position =  233\n"
          ]
        }
      ]
    },
    {
      "cell_type": "code",
      "source": [
        "import math\n",
        "\n",
        "x_pos = []\n",
        "y_pos = []\n",
        "width = 46\n",
        "\n",
        "for pixel in pixels:\n",
        "  y_posi = pixel//width \n",
        "  x_posi = (pixel - (width*y_posi)) + 1 \n",
        "  x_pos.append(x_posi)\n",
        "  y_pos.append(y_posi)\n",
        "\n",
        "x_pos.append(46)\n",
        "y_pos.append(56)"
      ],
      "metadata": {
        "colab": {
          "base_uri": "https://localhost:8080/"
        },
        "id": "U14VPZUpkr5m",
        "outputId": "5eaa3032-db03-4ccd-f425-f13d1397e7e2"
      },
      "execution_count": null,
      "outputs": [
        {
          "output_type": "stream",
          "name": "stdout",
          "text": [
            "173\n",
            "277\n",
            "233\n"
          ]
        }
      ]
    },
    {
      "cell_type": "code",
      "source": [
        "import matplotlib.pyplot as plt\n",
        "\n",
        "\n",
        "#colors = np.random.rand(N)\n",
        "colors=[\"b\", \"b\", \"b\", \"w\"]\n",
        "\n",
        "plt.scatter(x_pos,y_pos, c=colors)\n",
        "\n",
        "plt.title('Canva pixels')\n",
        "plt.xlabel('x')\n",
        "plt.ylabel('y')\n",
        "\n",
        "plt.show()"
      ],
      "metadata": {
        "colab": {
          "base_uri": "https://localhost:8080/",
          "height": 295
        },
        "id": "zoEcjUZNs9V3",
        "outputId": "d0ec491c-fe07-4ef2-ac76-8eaccfa017bb"
      },
      "execution_count": null,
      "outputs": [
        {
          "output_type": "display_data",
          "data": {
            "image/png": "[encoded data removed]",
            "text/plain": [
              "<Figure size 432x288 with 1 Axes>"
            ]
          },
          "metadata": {
            "needs_background": "light"
          }
        }
      ]
    },
    {
      "cell_type": "code",
      "source": [
        ""
      ],
      "metadata": {
        "id": "eXmJAfcVtmaJ"
      },
      "execution_count": null,
      "outputs": []
    }
  ]
}