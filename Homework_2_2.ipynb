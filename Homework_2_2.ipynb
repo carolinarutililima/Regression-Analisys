{
  "nbformat": 4,
  "nbformat_minor": 0,
  "metadata": {
    "colab": {
      "name": "Homework_2_2.ipynb",
      "provenance": []
    },
    "kernelspec": {
      "name": "python3",
      "display_name": "Python 3"
    },
    "language_info": {
      "name": "python"
    }
  },
  "cells": [
    {
      "cell_type": "markdown",
      "source": [
        "We can simply assign the grid coordinates as: 𝑥1 = {1, 2, … , 87}; 𝑥2 = {1, 2, … ,61}.\n",
        "\n",
        "Design an iterative algorithm based on repeating “multiple regressions” to arrive the highest point of this volcano, given the starting point at (87, 1), i.e., the right-bottom corner.\n",
        "\n",
        "\n",
        "Hint: you can consider a smaller domain of 𝑥1 and 𝑥2 to build a regression model, such that the linear\n",
        "hyperplane can show you an improving direction to another domain."
      ],
      "metadata": {
        "id": "z8ANfBntujI1"
      }
    },
    {
      "cell_type": "code",
      "source": [
        "import numpy as np \n",
        "\n",
        "file = open(\"/content/drive/MyDrive/Colab Notebooks/homework_2/Volcano.csv\")\n",
        "numpy_array = np.loadtxt(file, delimiter=\",\")\n",
        "\n",
        "\n",
        "x1_init = 60\n",
        "x2_init = 86\n",
        "temp = numpy_array[60][86]\n",
        "\n",
        "\n"
      ],
      "metadata": {
        "id": "maTxZI_8iIbO"
      },
      "execution_count": 61,
      "outputs": []
    },
    {
      "cell_type": "code",
      "source": [
        "import numpy as np\n",
        "import random\n",
        "from sklearn.linear_model import LinearRegression\n",
        "\n",
        "neighbors = 5\n",
        "atual = [60,86]\n",
        "y_now = 94\n",
        "change = False\n",
        "while y_now<np.amax(numpy_array)-1:\n",
        "  x1 = []\n",
        "  x2 = []\n",
        "  y = []\n",
        "  x = []\n",
        "\n",
        "  for i in range(1,neighbors+1):\n",
        "    if  y_now > 178:\n",
        "      x_atual = atual[0] + i\n",
        "      x2_atual = atual[1] - i\n",
        "    else:  \n",
        "      x_atual = atual[0] - i\n",
        "      x2_atual = atual[1] - i \n",
        "\n",
        "\n",
        "    x1.append(x_atual)\n",
        "    x2.append(x2_atual)\n",
        "\n",
        "\n",
        "  for i in range(0,len(x1)):\n",
        "    for k in range(0,len(x2)):\n",
        "      \n",
        "      x.append([x1[i],x2[k]])\n",
        "\n",
        "      y_atual = numpy_array[x1[i]][x2[k]]\n",
        "      y.append(y_atual)\n",
        "\n",
        "\n",
        "\n",
        "  model = LinearRegression().fit(x,y)\n",
        "  prediction = model.predict(x)\n",
        "\n",
        "  index = np.argmax(prediction)\n",
        "\n",
        "  l = len(prediction)\n",
        "  index = np.argmax(prediction)\n",
        "  new_pos = x[index]\n",
        "  y_now = numpy_array[new_pos[0]][new_pos[1]]\n",
        "\n",
        "  atual = new_pos\n",
        "\n",
        "  print(\"We are at\",new_pos, \"temperature:\", y_now+1)\n",
        "\n",
        "\n",
        "\n",
        "\n"
      ],
      "metadata": {
        "colab": {
          "base_uri": "https://localhost:8080/"
        },
        "id": "i1sLMXOhnXDa",
        "outputId": "891fbf01-1efc-4b1f-dbc8-00f1b75bc554"
      },
      "execution_count": 91,
      "outputs": [
        {
          "output_type": "stream",
          "name": "stdout",
          "text": [
            "We are at [59, 81] temperature: 96.0\n",
            "We are at [58, 76] temperature: 97.0\n",
            "We are at [57, 71] temperature: 98.0\n",
            "We are at [52, 66] temperature: 101.0\n",
            "We are at [47, 61] temperature: 115.0\n",
            "We are at [42, 60] temperature: 137.0\n",
            "We are at [37, 59] temperature: 141.0\n",
            "We are at [32, 54] temperature: 147.0\n",
            "We are at [27, 49] temperature: 169.0\n",
            "We are at [26, 48] temperature: 171.0\n",
            "We are at [25, 47] temperature: 171.0\n",
            "We are at [24, 46] temperature: 171.0\n",
            "We are at [23, 41] temperature: 168.0\n",
            "We are at [22, 36] temperature: 171.0\n",
            "We are at [21, 31] temperature: 173.0\n",
            "We are at [20, 26] temperature: 181.0\n",
            "We are at [25, 21] temperature: 191.0\n",
            "We are at [30, 20] temperature: 191.0\n",
            "We are at [31, 19] temperature: 195.0\n"
          ]
        }
      ]
    }
  ]
}